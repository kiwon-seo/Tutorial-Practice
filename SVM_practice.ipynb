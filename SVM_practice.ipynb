{
 "cells": [
  {
   "cell_type": "markdown",
   "metadata": {},
   "source": [
    "# 서포트 벡터 머신(Support Vector Machine) 실습\n",
    "\n",
    "\n",
    "\n",
    "  \n",
    "  + Margin을 최대화 하는 분류 경계면을 찾는 기법 \n",
    "  + Margin --> 두 데이터 군과 결정 경계가 떨어져 있는 정도\n",
    "  + Support Vector --> 두 클래스 사이의 경계에 위치해 있는 데이터 포인트들\n",
    "  "
   ]
  },
  {
   "cell_type": "markdown",
   "metadata": {},
   "source": [
    "+ Linear SVM  \n",
    "하지만, 선형적으로 완벽하게 분리하는 것은 불가능하다. 따라서 약간의 오류를 허용하는 전략이 필요하다.  \n",
    "이것과 관련된 파라미터가 Cost(c)이다. --> 얼마나 많은 다른 데이터 샘플이 다른 클래스에 놓이는 것을 허용하는 정도.  \n",
    "cost가 클수록 적게 허용하고 cost가 작을수록 크게 허용한다. 따라서, 너무 높은 cost는 overfitting을 초래한다."
   ]
  },
  {
   "cell_type": "markdown",
   "metadata": {},
   "source": [
    "+ RBF 커널 SVM  \n",
    "선형만으로는 해결할 수 없는 경우가 존재한다. 이런 경우 자주 활용되는 것이 RBF 커널이다.  \n",
    "커널기법이란 데이터를 고차원으로 특징 공간으로 사상해주는 것이다. 이렇게 되면 원래의 차원에서는 볼 수 없었던 선형으로 분류 가능하다!  \n",
    "  \n",
    "  매개 변수로는 gamma가 추가적으로 존재한다. gamma는 하나의 데이터가 영향력을 행사하는 거리를 결정한다.  \n",
    "  gamma는 표준편차와 관련이 있다. gamma가 클수록 데이터가 영향력을 행사하는 거리가 짧아지므로 표준편차가 작게 된다.\n",
    "  따라서 너무 높은 gamma는 데이터의 영향력 행사 거리가 짧아지므로 overfitting을 초래한다."
   ]
  },
  {
   "cell_type": "code",
   "execution_count": 3,
   "metadata": {},
   "outputs": [
    {
     "name": "stdout",
     "output_type": "stream",
     "text": [
      "(569, 30)\n"
     ]
    }
   ],
   "source": [
    "from sklearn import datasets\n",
    "data = datasets.load_breast_cancer()\n",
    "x = data['data']\n",
    "y = data['target']\n",
    "print(x.shape)"
   ]
  },
  {
   "cell_type": "markdown",
   "metadata": {},
   "source": [
    "### 데이터 분할"
   ]
  },
  {
   "cell_type": "code",
   "execution_count": 4,
   "metadata": {},
   "outputs": [
    {
     "data": {
      "text/plain": [
       "((398, 30), (171, 30), (398,), (171,))"
      ]
     },
     "execution_count": 4,
     "metadata": {},
     "output_type": "execute_result"
    }
   ],
   "source": [
    "from sklearn.model_selection import train_test_split\n",
    "X_train, X_test, Y_train, Y_test = train_test_split(x, y, test_size=0.3, random_state=0)\n",
    "X_train.shape, X_test.shape, Y_train.shape, Y_test.shape"
   ]
  },
  {
   "cell_type": "markdown",
   "metadata": {},
   "source": [
    "### Training Model"
   ]
  },
  {
   "cell_type": "code",
   "execution_count": 5,
   "metadata": {},
   "outputs": [
    {
     "data": {
      "text/plain": [
       "SVC(C=1.0, cache_size=200, class_weight=None, coef0=0.0,\n",
       "    decision_function_shape='ovr', degree=3, gamma='auto_deprecated',\n",
       "    kernel='linear', max_iter=-1, probability=False, random_state=None,\n",
       "    shrinking=True, tol=0.001, verbose=False)"
      ]
     },
     "execution_count": 5,
     "metadata": {},
     "output_type": "execute_result"
    }
   ],
   "source": [
    "import numpy as np\n",
    "from sklearn.linear_model import LogisticRegression\n",
    "from sklearn import svm\n",
    "linear_svm = svm.SVC(kernel='linear')\n",
    "linear_svm.fit(X_train, Y_train)"
   ]
  },
  {
   "cell_type": "markdown",
   "metadata": {},
   "source": [
    "linear 모델의 정확도를 파악한다"
   ]
  },
  {
   "cell_type": "code",
   "execution_count": 6,
   "metadata": {},
   "outputs": [
    {
     "name": "stdout",
     "output_type": "stream",
     "text": [
      "Accuracy: 0.9590643274853801\n"
     ]
    }
   ],
   "source": [
    "from sklearn import metrics\n",
    "Y_pred = linear_svm.predict(X_test)\n",
    "print(\"Accuracy:\",metrics.accuracy_score(Y_test, Y_pred))"
   ]
  },
  {
   "cell_type": "markdown",
   "metadata": {},
   "source": [
    "앞선 linear 모델로도 정확도가 충분히 높았지만 다른 커널로도 정확도를 파악해보자."
   ]
  },
  {
   "cell_type": "code",
   "execution_count": 7,
   "metadata": {},
   "outputs": [],
   "source": [
    "kernels = ['poly','rbf','sigmoid']"
   ]
  },
  {
   "cell_type": "code",
   "execution_count": 8,
   "metadata": {},
   "outputs": [
    {
     "name": "stderr",
     "output_type": "stream",
     "text": [
      "C:\\Users\\kiwon\\Anaconda3\\lib\\site-packages\\sklearn\\svm\\base.py:193: FutureWarning: The default value of gamma will change from 'auto' to 'scale' in version 0.22 to account better for unscaled features. Set gamma explicitly to 'auto' or 'scale' to avoid this warning.\n",
      "  \"avoid this warning.\", FutureWarning)\n"
     ]
    },
    {
     "name": "stdout",
     "output_type": "stream",
     "text": [
      "kernel : poly, Accuracy: 0.9590643274853801\n",
      "======================================\n",
      "kernel : rbf, Accuracy: 0.631578947368421\n",
      "======================================\n",
      "kernel : sigmoid, Accuracy: 0.631578947368421\n",
      "======================================\n"
     ]
    },
    {
     "name": "stderr",
     "output_type": "stream",
     "text": [
      "C:\\Users\\kiwon\\Anaconda3\\lib\\site-packages\\sklearn\\svm\\base.py:193: FutureWarning: The default value of gamma will change from 'auto' to 'scale' in version 0.22 to account better for unscaled features. Set gamma explicitly to 'auto' or 'scale' to avoid this warning.\n",
      "  \"avoid this warning.\", FutureWarning)\n",
      "C:\\Users\\kiwon\\Anaconda3\\lib\\site-packages\\sklearn\\svm\\base.py:193: FutureWarning: The default value of gamma will change from 'auto' to 'scale' in version 0.22 to account better for unscaled features. Set gamma explicitly to 'auto' or 'scale' to avoid this warning.\n",
      "  \"avoid this warning.\", FutureWarning)\n"
     ]
    }
   ],
   "source": [
    "for kernel in kernels:\n",
    "    clf = svm.SVC(kernel = kernel, degree=2)\n",
    "    clf.fit(X_train, Y_train)\n",
    "    Y_pred = clf.predict(X_test)\n",
    "    print(\"kernel : {}, Accuracy:\".format(kernel), metrics.accuracy_score(Y_test, Y_pred))\n",
    "    print(\"======================================\")"
   ]
  },
  {
   "cell_type": "markdown",
   "metadata": {},
   "source": [
    "커널이 rbf일때, C와 gamma에 따른 정확도의 차이를 확인해보자."
   ]
  },
  {
   "cell_type": "code",
   "execution_count": 9,
   "metadata": {},
   "outputs": [
    {
     "name": "stdout",
     "output_type": "stream",
     "text": [
      "C=0.1 & Gamma=0.1, Accuracy: 0.631578947368421\n",
      "======================================\n",
      "C=0.1 & Gamma=1, Accuracy: 0.631578947368421\n",
      "======================================\n",
      "C=0.1 & Gamma=10, Accuracy: 0.631578947368421\n",
      "======================================\n",
      "C=0.1 & Gamma=100, Accuracy: 0.631578947368421\n",
      "======================================\n",
      "C=1 & Gamma=0.1, Accuracy: 0.631578947368421\n",
      "======================================\n",
      "C=1 & Gamma=1, Accuracy: 0.631578947368421\n",
      "======================================\n",
      "C=1 & Gamma=10, Accuracy: 0.631578947368421\n",
      "======================================\n",
      "C=1 & Gamma=100, Accuracy: 0.631578947368421\n",
      "======================================\n",
      "C=10 & Gamma=0.1, Accuracy: 0.631578947368421\n",
      "======================================\n",
      "C=10 & Gamma=1, Accuracy: 0.631578947368421\n",
      "======================================\n",
      "C=10 & Gamma=10, Accuracy: 0.631578947368421\n",
      "======================================\n",
      "C=10 & Gamma=100, Accuracy: 0.631578947368421\n",
      "======================================\n",
      "C=100 & Gamma=0.1, Accuracy: 0.631578947368421\n",
      "======================================\n",
      "C=100 & Gamma=1, Accuracy: 0.631578947368421\n",
      "======================================\n",
      "C=100 & Gamma=10, Accuracy: 0.631578947368421\n",
      "======================================\n",
      "C=100 & Gamma=100, Accuracy: 0.631578947368421\n",
      "======================================\n"
     ]
    }
   ],
   "source": [
    "C = [0.1, 1, 10, 100]\n",
    "Gamma = [0.1,1, 10, 100]\n",
    "for c in C:\n",
    "    for gamma in Gamma:\n",
    "        clf = svm.SVC(kernel = 'rbf', C=c, gamma=gamma)\n",
    "        clf.fit(X_train, Y_train)\n",
    "        Y_pred = clf.predict(X_test)\n",
    "        print(\"C={} & Gamma={}, Accuracy:\".format(c,gamma), metrics.accuracy_score(Y_test, Y_pred))\n",
    "        print(\"======================================\")"
   ]
  }
 ],
 "metadata": {
  "kernelspec": {
   "display_name": "Python 3",
   "language": "python",
   "name": "python3"
  },
  "language_info": {
   "codemirror_mode": {
    "name": "ipython",
    "version": 3
   },
   "file_extension": ".py",
   "mimetype": "text/x-python",
   "name": "python",
   "nbconvert_exporter": "python",
   "pygments_lexer": "ipython3",
   "version": "3.7.4"
  }
 },
 "nbformat": 4,
 "nbformat_minor": 2
}
